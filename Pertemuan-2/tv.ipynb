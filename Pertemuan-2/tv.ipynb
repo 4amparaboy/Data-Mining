{
 "cells": [
  {
   "cell_type": "code",
   "execution_count": 1,
   "metadata": {},
   "outputs": [],
   "source": [
    "import numpy as np\n",
    "import pandas as pd"
   ]
  },
  {
   "cell_type": "code",
   "execution_count": 2,
   "metadata": {},
   "outputs": [
    {
     "data": {
      "text/html": [
       "<div>\n",
       "<style scoped>\n",
       "    .dataframe tbody tr th:only-of-type {\n",
       "        vertical-align: middle;\n",
       "    }\n",
       "\n",
       "    .dataframe tbody tr th {\n",
       "        vertical-align: top;\n",
       "    }\n",
       "\n",
       "    .dataframe thead th {\n",
       "        text-align: right;\n",
       "    }\n",
       "</style>\n",
       "<table border=\"1\" class=\"dataframe\">\n",
       "  <thead>\n",
       "    <tr style=\"text-align: right;\">\n",
       "      <th></th>\n",
       "      <th>titleId</th>\n",
       "      <th>seasonNumber</th>\n",
       "      <th>title</th>\n",
       "      <th>date</th>\n",
       "      <th>av_rating</th>\n",
       "      <th>share</th>\n",
       "      <th>genres</th>\n",
       "    </tr>\n",
       "  </thead>\n",
       "  <tbody>\n",
       "    <tr>\n",
       "      <th>0</th>\n",
       "      <td>tt0806901</td>\n",
       "      <td>44</td>\n",
       "      <td>Polizeiruf 110</td>\n",
       "      <td>2015</td>\n",
       "      <td>7.0000</td>\n",
       "      <td>0.00</td>\n",
       "      <td>Crime,Drama</td>\n",
       "    </tr>\n",
       "    <tr>\n",
       "      <th>1</th>\n",
       "      <td>tt0806901</td>\n",
       "      <td>40</td>\n",
       "      <td>Polizeiruf 110</td>\n",
       "      <td>2011</td>\n",
       "      <td>7.3595</td>\n",
       "      <td>0.02</td>\n",
       "      <td>Crime,Drama</td>\n",
       "    </tr>\n",
       "    <tr>\n",
       "      <th>2</th>\n",
       "      <td>tt0806901</td>\n",
       "      <td>39</td>\n",
       "      <td>Polizeiruf 110</td>\n",
       "      <td>2010</td>\n",
       "      <td>7.2000</td>\n",
       "      <td>0.01</td>\n",
       "      <td>Crime,Drama</td>\n",
       "    </tr>\n",
       "    <tr>\n",
       "      <th>3</th>\n",
       "      <td>tt0203259</td>\n",
       "      <td>20</td>\n",
       "      <td>Law &amp; Order: Special Victims Unit</td>\n",
       "      <td>2018</td>\n",
       "      <td>8.6219</td>\n",
       "      <td>0.07</td>\n",
       "      <td>Crime,Drama,Mystery</td>\n",
       "    </tr>\n",
       "    <tr>\n",
       "      <th>4</th>\n",
       "      <td>tt0098844</td>\n",
       "      <td>20</td>\n",
       "      <td>Law &amp; Order</td>\n",
       "      <td>2010</td>\n",
       "      <td>7.8286</td>\n",
       "      <td>0.28</td>\n",
       "      <td>Crime,Drama,Mystery</td>\n",
       "    </tr>\n",
       "  </tbody>\n",
       "</table>\n",
       "</div>"
      ],
      "text/plain": [
       "     titleId  seasonNumber                              title  date  \\\n",
       "0  tt0806901            44                     Polizeiruf 110  2015   \n",
       "1  tt0806901            40                     Polizeiruf 110  2011   \n",
       "2  tt0806901            39                     Polizeiruf 110  2010   \n",
       "3  tt0203259            20  Law & Order: Special Victims Unit  2018   \n",
       "4  tt0098844            20                        Law & Order  2010   \n",
       "\n",
       "   av_rating  share               genres  \n",
       "0     7.0000   0.00          Crime,Drama  \n",
       "1     7.3595   0.02          Crime,Drama  \n",
       "2     7.2000   0.01          Crime,Drama  \n",
       "3     8.6219   0.07  Crime,Drama,Mystery  \n",
       "4     7.8286   0.28  Crime,Drama,Mystery  "
      ]
     },
     "execution_count": 2,
     "metadata": {},
     "output_type": "execute_result"
    }
   ],
   "source": [
    "df = pd.read_csv(\"./tv.csv\")\n",
    "df.head() # Menampilkan 5 data teratas"
   ]
  },
  {
   "cell_type": "code",
   "execution_count": 3,
   "metadata": {},
   "outputs": [
    {
     "data": {
      "text/html": [
       "<div>\n",
       "<style scoped>\n",
       "    .dataframe tbody tr th:only-of-type {\n",
       "        vertical-align: middle;\n",
       "    }\n",
       "\n",
       "    .dataframe tbody tr th {\n",
       "        vertical-align: top;\n",
       "    }\n",
       "\n",
       "    .dataframe thead th {\n",
       "        text-align: right;\n",
       "    }\n",
       "</style>\n",
       "<table border=\"1\" class=\"dataframe\">\n",
       "  <thead>\n",
       "    <tr style=\"text-align: right;\">\n",
       "      <th></th>\n",
       "      <th>seasonNumber</th>\n",
       "      <th>date</th>\n",
       "      <th>av_rating</th>\n",
       "      <th>share</th>\n",
       "    </tr>\n",
       "  </thead>\n",
       "  <tbody>\n",
       "    <tr>\n",
       "      <th>count</th>\n",
       "      <td>1634.000000</td>\n",
       "      <td>1634.000000</td>\n",
       "      <td>1634.000000</td>\n",
       "      <td>1634.000000</td>\n",
       "    </tr>\n",
       "    <tr>\n",
       "      <th>mean</th>\n",
       "      <td>3.134639</td>\n",
       "      <td>2014.004284</td>\n",
       "      <td>8.104855</td>\n",
       "      <td>0.673488</td>\n",
       "    </tr>\n",
       "    <tr>\n",
       "      <th>std</th>\n",
       "      <td>3.272515</td>\n",
       "      <td>2.960753</td>\n",
       "      <td>0.649148</td>\n",
       "      <td>1.473995</td>\n",
       "    </tr>\n",
       "    <tr>\n",
       "      <th>min</th>\n",
       "      <td>1.000000</td>\n",
       "      <td>2008.000000</td>\n",
       "      <td>2.703900</td>\n",
       "      <td>0.000000</td>\n",
       "    </tr>\n",
       "    <tr>\n",
       "      <th>25%</th>\n",
       "      <td>1.000000</td>\n",
       "      <td>2012.000000</td>\n",
       "      <td>7.770400</td>\n",
       "      <td>0.080000</td>\n",
       "    </tr>\n",
       "    <tr>\n",
       "      <th>50%</th>\n",
       "      <td>2.000000</td>\n",
       "      <td>2015.000000</td>\n",
       "      <td>8.157650</td>\n",
       "      <td>0.220000</td>\n",
       "    </tr>\n",
       "    <tr>\n",
       "      <th>75%</th>\n",
       "      <td>4.000000</td>\n",
       "      <td>2017.000000</td>\n",
       "      <td>8.527850</td>\n",
       "      <td>0.630000</td>\n",
       "    </tr>\n",
       "    <tr>\n",
       "      <th>max</th>\n",
       "      <td>44.000000</td>\n",
       "      <td>2018.000000</td>\n",
       "      <td>9.554000</td>\n",
       "      <td>18.950000</td>\n",
       "    </tr>\n",
       "  </tbody>\n",
       "</table>\n",
       "</div>"
      ],
      "text/plain": [
       "       seasonNumber         date    av_rating        share\n",
       "count   1634.000000  1634.000000  1634.000000  1634.000000\n",
       "mean       3.134639  2014.004284     8.104855     0.673488\n",
       "std        3.272515     2.960753     0.649148     1.473995\n",
       "min        1.000000  2008.000000     2.703900     0.000000\n",
       "25%        1.000000  2012.000000     7.770400     0.080000\n",
       "50%        2.000000  2015.000000     8.157650     0.220000\n",
       "75%        4.000000  2017.000000     8.527850     0.630000\n",
       "max       44.000000  2018.000000     9.554000    18.950000"
      ]
     },
     "execution_count": 3,
     "metadata": {},
     "output_type": "execute_result"
    }
   ],
   "source": [
    "# Menampilkan data statistik\n",
    "df.describe()"
   ]
  },
  {
   "cell_type": "code",
   "execution_count": 4,
   "metadata": {},
   "outputs": [
    {
     "data": {
      "text/plain": [
       "<Axes: xlabel='av_rating', ylabel='seasonNumber'>"
      ]
     },
     "execution_count": 4,
     "metadata": {},
     "output_type": "execute_result"
    },
    {
     "data": {
      "image/png": "[encoded data removed]",
      "text/plain": [
       "<Figure size 640x480 with 1 Axes>"
      ]
     },
     "metadata": {},
     "output_type": "display_data"
    }
   ],
   "source": [
    "# Menampilkan scatter plot\n",
    "# x = peringkat rata - rata (av_rating)\n",
    "# y = jumlah musim (seasonNumber)\n",
    "df.plot.scatter(x=\"av_rating\", y=\"seasonNumber\")"
   ]
  }
 ],
 "metadata": {
  "kernelspec": {
   "display_name": "Python 3",
   "language": "python",
   "name": "python3"
  },
  "language_info": {
   "codemirror_mode": {
    "name": "ipython",
    "version": 3
   },
   "file_extension": ".py",
   "mimetype": "text/x-python",
   "name": "python",
   "nbconvert_exporter": "python",
   "pygments_lexer": "ipython3",
   "version": "3.11.2"
  },
  "vscode": {
   "interpreter": {
    "hash": "e1dd649da42d44c29e88b8cd5ac05bb60a7bf48225ce55c93662d0c4a593f645"
   }
  }
 },
 "nbformat": 4,
 "nbformat_minor": 2
}
