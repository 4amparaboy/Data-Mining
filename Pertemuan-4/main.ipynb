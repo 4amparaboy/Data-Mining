{
 "cells": [
  {
   "cell_type": "code",
   "execution_count": 12,
   "metadata": {},
   "outputs": [],
   "source": [
    "from Sastrawi.StopWordRemover.StopWordRemoverFactory import StopWordRemoverFactory\n",
    "from nltk.tokenize import word_tokenize\n",
    "import string"
   ]
  },
  {
   "cell_type": "code",
   "execution_count": 13,
   "metadata": {},
   "outputs": [],
   "source": [
    "factory = StopWordRemoverFactory()\n",
    "stopword = factory.create_stop_word_remover()"
   ]
  },
  {
   "cell_type": "code",
   "execution_count": 14,
   "metadata": {},
   "outputs": [
    {
     "name": "stdout",
     "output_type": "stream",
     "text": [
      "banjir\n",
      "menggenangi\n",
      "kota\n",
      "semarang\n",
      "beberapa\n",
      "waktu\n",
      "lalu\n",
      "kian\n",
      "surut\n",
      "seiring\n",
      "berjalannya\n",
      "waktu\n"
     ]
    },
    {
     "data": {
      "text/plain": [
       "[None, None, None, None, None, None, None, None, None, None, None, None]"
      ]
     },
     "execution_count": 14,
     "metadata": {},
     "output_type": "execute_result"
    }
   ],
   "source": [
    "text = \"Banjir yang menggenangi Kota Semarang beberapa waktu lalu, kian surut seiring berjalannya waktu\"\n",
    "text = text.translate(str.maketrans(\"\", \"\", string.punctuation)).lower()\n",
    "stop = stopword.remove(text)\n",
    "tokens = word_tokenize(stop, preserve_line=True)\n",
    "for word in tokens:\n",
    "    print(word)"
   ]
  }
 ],
 "metadata": {
  "kernelspec": {
   "display_name": "Python 3",
   "language": "python",
   "name": "python3"
  },
  "language_info": {
   "codemirror_mode": {
    "name": "ipython",
    "version": 3
   },
   "file_extension": ".py",
   "mimetype": "text/x-python",
   "name": "python",
   "nbconvert_exporter": "python",
   "pygments_lexer": "ipython3",
   "version": "3.11.2"
  },
  "vscode": {
   "interpreter": {
    "hash": "e1dd649da42d44c29e88b8cd5ac05bb60a7bf48225ce55c93662d0c4a593f645"
   }
  }
 },
 "nbformat": 4,
 "nbformat_minor": 2
}
